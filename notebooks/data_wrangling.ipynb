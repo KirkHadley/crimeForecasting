{
 "cells": [
  {
   "cell_type": "code",
   "execution_count": null,
   "metadata": {
    "collapsed": false
   },
   "outputs": [],
   "source": [
    "%matplotlib inline"
   ]
  },
  {
   "cell_type": "code",
   "execution_count": 163,
   "metadata": {
    "collapsed": false
   },
   "outputs": [],
   "source": [
    "import pandas as pd\n",
    "import cPickle as pickle\n",
    "import numpy as np\n",
    "import matplotlib as mpl\n",
    "from matplotlib import pyplot\n",
    "import sklearn as sk\n",
    "import os\n",
    "from osgeo import ogr\n",
    "import geopandas as gpd\n",
    "import operator\n",
    "import json\n",
    "from shapely.geometry import Point, shape"
   ]
  },
  {
   "cell_type": "code",
   "execution_count": null,
   "metadata": {
    "collapsed": false
   },
   "outputs": [],
   "source": [
    "df = pd.read_excel('../NIJ2013_JAN01_DEC31.xlsx')"
   ]
  },
  {
   "cell_type": "code",
   "execution_count": null,
   "metadata": {
    "collapsed": false
   },
   "outputs": [],
   "source": [
    "df.head()"
   ]
  },
  {
   "cell_type": "code",
   "execution_count": null,
   "metadata": {
    "collapsed": true
   },
   "outputs": [],
   "source": [
    "col_uniques = []\n",
    "for i in df.columns:\n",
    "    col_uniques.append([df[i].unique(), i])"
   ]
  },
  {
   "cell_type": "code",
   "execution_count": null,
   "metadata": {
    "collapsed": false,
    "scrolled": true
   },
   "outputs": [],
   "source": [
    "filter(lambda x: x[1] == 'CASE DESC', col_uniques)"
   ]
  },
  {
   "cell_type": "code",
   "execution_count": null,
   "metadata": {
    "collapsed": false
   },
   "outputs": [],
   "source": [
    "df[df['final_case_type'] == 'DISTP ']['CASE DESC'].unique()"
   ]
  },
  {
   "cell_type": "code",
   "execution_count": null,
   "metadata": {
    "collapsed": false
   },
   "outputs": [],
   "source": [
    "for i in df.columns[:-4]:\n",
    "    df[i] = df[i].str.rstrip()"
   ]
  },
  {
   "cell_type": "code",
   "execution_count": 21,
   "metadata": {
    "collapsed": false
   },
   "outputs": [],
   "source": [
    "excels = []\n",
    "e = os.listdir('../data/')\n",
    "for i in e:\n",
    "    if i.endswith('_Data'):\n",
    "        files = list(os.walk('../data/' + i))[0]\n",
    "        excel = filter(lambda x: x.endswith('.xlsx'), files[2])\n",
    "        excels.append(files[0] + '/' + excel[0])\n",
    "    else:\n",
    "        pass"
   ]
  },
  {
   "cell_type": "code",
   "execution_count": 27,
   "metadata": {
    "collapsed": false
   },
   "outputs": [
    {
     "name": "stdout",
     "output_type": "stream",
     "text": [
      "reading ../data/010114_123114_Data/NIJ2014_JAN01_DEC31.xlsx\n",
      "read ../data/010114_123114_Data/NIJ2014_JAN01_DEC31.xlsx\n",
      "reading ../data/120116_123116_Data/NIJ2016_DEC01_DEC31.xlsx\n",
      "read ../data/120116_123116_Data/NIJ2016_DEC01_DEC31.xlsx\n",
      "reading ../data/110116_113016_Data/NIJ2016_NOV01_NOV30.xlsx\n",
      "read ../data/110116_113016_Data/NIJ2016_NOV01_NOV30.xlsx\n",
      "reading ../data/010115_123115_Data/NIJ2015_JAN01_DEC31.xlsx\n",
      "read ../data/010115_123115_Data/NIJ2015_JAN01_DEC31.xlsx\n",
      "reading ../data/080116_083116_Data/NIJ2016_AUG01_AUG31_USE.xlsx\n",
      "read ../data/080116_083116_Data/NIJ2016_AUG01_AUG31_USE.xlsx\n",
      "reading ../data/100116_103116_Data/NIJ2016_OCT01_OCT31.xlsx\n",
      "read ../data/100116_103116_Data/NIJ2016_OCT01_OCT31.xlsx\n",
      "reading ../data/030112_123112_Data/NIJ2012_MAR01_DEC31.xlsx\n",
      "read ../data/030112_123112_Data/NIJ2012_MAR01_DEC31.xlsx\n",
      "reading ../data/090116_093016_Data/NIJ2016_SEP01_SEP30.xlsx\n",
      "read ../data/090116_093016_Data/NIJ2016_SEP01_SEP30.xlsx\n",
      "reading ../data/010113_123113_Data/NIJ2013_JAN01_DEC31.xlsx\n",
      "read ../data/010113_123113_Data/NIJ2013_JAN01_DEC31.xlsx\n",
      "reading ../data/010116_073116_Data/NIJ2016_JAN01_JUL31.xlsx\n",
      "read ../data/010116_073116_Data/NIJ2016_JAN01_JUL31.xlsx\n"
     ]
    }
   ],
   "source": [
    "dataframes = []\n",
    "for i in excels:\n",
    "    print 'reading %s' % i\n",
    "    dataframes.append(pd.read_excel(i))\n",
    "    print 'read %s' % i\n",
    "bigDF = pd.concat(dataframes)"
   ]
  },
  {
   "cell_type": "code",
   "execution_count": 29,
   "metadata": {
    "collapsed": false
   },
   "outputs": [],
   "source": [
    "bigDF.to_csv('../data/cleanData/all_crim_data.csv')"
   ]
  },
  {
   "cell_type": "code",
   "execution_count": 30,
   "metadata": {
    "collapsed": false,
    "scrolled": true
   },
   "outputs": [],
   "source": [
    "burg = bigDF[bigDF['CATEGORY'] == 'BURGLARY']\n",
    "burg_counts = burg[['CATEGORY', 'occ_date']].groupby('occ_date').count()"
   ]
  },
  {
   "cell_type": "code",
   "execution_count": null,
   "metadata": {
    "collapsed": false,
    "scrolled": false
   },
   "outputs": [],
   "source": [
    "burg_counts.resample('2Q', 'sum').plot()"
   ]
  },
  {
   "cell_type": "code",
   "execution_count": null,
   "metadata": {
    "collapsed": false,
    "scrolled": true
   },
   "outputs": [],
   "source": [
    "#fig, ax = pyplot.subplots()\n",
    "#weekly_sample.plot()"
   ]
  },
  {
   "cell_type": "code",
   "execution_count": null,
   "metadata": {
    "collapsed": false,
    "scrolled": true
   },
   "outputs": [],
   "source": [
    "#driver = ogr.GetDriverByName('ESRI Shapefile')\n",
    "#gridfile = \"../data/shapefiles/testfinalclip.shp\"\n",
    "#gridSource = driver.Open(gridfile, 0) # 0 means read-only. 1 means writeable.\n",
    "#gridLayer = gridSource.GetLayer()\n",
    "#gridPoints = []\n",
    "#geoms = []\n",
    "#for feature in gridLayer:\n",
    "#    geom = feature.GetGeometryRef()\n",
    "#    geoms.append(geom)\n",
    "#    p = geom.GetEnvelope()\n",
    "#    print p\n",
    "#    gridPoints.append(p)"
   ]
  },
  {
   "cell_type": "code",
   "execution_count": 2,
   "metadata": {
    "collapsed": false
   },
   "outputs": [],
   "source": [
    "g1 = gpd.GeoDataFrame.from_file(\"../data/shapefiles/Portland_Police_Districts.shp\")\n",
    "g2 = gpd.GeoDataFrame.from_file(\"../data/shapefiles/polyGrid.shp\")"
   ]
  },
  {
   "cell_type": "code",
   "execution_count": 12,
   "metadata": {
    "collapsed": false
   },
   "outputs": [],
   "source": [
    "data = []\n",
    "for index, dist in g1.iterrows():\n",
    "    for index2, grid in g2.iterrows():\n",
    "        if dist['geometry'].intersects(grid['geometry']):\n",
    "            data.append({'geometry': dist['geometry'].intersection(grid['geometry']), 'district':dist['DISTRICT'], \n",
    "                         'precinct': dist['PRECINCT']})\n"
   ]
  },
  {
   "cell_type": "code",
   "execution_count": 20,
   "metadata": {
    "collapsed": false
   },
   "outputs": [],
   "source": [
    "#geoDF = gpd.GeoDataFrame(data, columns=['district', 'geometry', 'precinct'])\n",
    "geoDF.to_file('../data/shapefiles/intersections.shp')"
   ]
  },
  {
   "cell_type": "code",
   "execution_count": 119,
   "metadata": {
    "collapsed": false
   },
   "outputs": [
    {
     "name": "stdout",
     "output_type": "stream",
     "text": [
      "on row 0, 0 percent complete\n",
      "39\n",
      "101\n",
      "232\n",
      "262\n",
      "327\n",
      "488\n",
      "704\n"
     ]
    },
    {
     "ename": "KeyboardInterrupt",
     "evalue": "",
     "output_type": "error",
     "traceback": [
      "\u001b[1;31m---------------------------------------------------------------------------\u001b[0m",
      "\u001b[1;31mKeyboardInterrupt\u001b[0m                         Traceback (most recent call last)",
      "\u001b[1;32m<ipython-input-119-d1f10c99031a>\u001b[0m in \u001b[0;36m<module>\u001b[1;34m()\u001b[0m\n\u001b[0;32m      5\u001b[0m     \u001b[0mcoord\u001b[0m \u001b[1;33m=\u001b[0m \u001b[0mbigDF\u001b[0m\u001b[1;33m.\u001b[0m\u001b[0miloc\u001b[0m\u001b[1;33m[\u001b[0m\u001b[0mi\u001b[0m\u001b[1;33m]\u001b[0m\u001b[1;33m[\u001b[0m\u001b[1;33m[\u001b[0m\u001b[1;34m'x_coordinate'\u001b[0m\u001b[1;33m,\u001b[0m \u001b[1;34m'y_coordinate'\u001b[0m\u001b[1;33m]\u001b[0m\u001b[1;33m]\u001b[0m\u001b[1;33m\u001b[0m\u001b[0m\n\u001b[0;32m      6\u001b[0m     \u001b[0mpt\u001b[0m \u001b[1;33m=\u001b[0m \u001b[0mPoint\u001b[0m\u001b[1;33m(\u001b[0m\u001b[0mcoord\u001b[0m\u001b[1;33m[\u001b[0m\u001b[1;34m'x_coordinate'\u001b[0m\u001b[1;33m]\u001b[0m\u001b[1;33m,\u001b[0m \u001b[0mcoord\u001b[0m\u001b[1;33m[\u001b[0m\u001b[1;34m'y_coordinate'\u001b[0m\u001b[1;33m]\u001b[0m\u001b[1;33m)\u001b[0m\u001b[1;33m\u001b[0m\u001b[0m\n\u001b[1;32m----> 7\u001b[1;33m     \u001b[0mg\u001b[0m \u001b[1;33m=\u001b[0m \u001b[0mgeoDF\u001b[0m\u001b[1;33m[\u001b[0m\u001b[0mgeoDF\u001b[0m\u001b[1;33m.\u001b[0m\u001b[0mgeometry\u001b[0m\u001b[1;33m.\u001b[0m\u001b[0mcontains\u001b[0m\u001b[1;33m(\u001b[0m\u001b[0mpt\u001b[0m\u001b[1;33m)\u001b[0m \u001b[1;33m==\u001b[0m \u001b[0mTrue\u001b[0m\u001b[1;33m]\u001b[0m\u001b[1;33m[\u001b[0m\u001b[1;34m'geometry'\u001b[0m\u001b[1;33m]\u001b[0m\u001b[1;33m\u001b[0m\u001b[0m\n\u001b[0m\u001b[0;32m      8\u001b[0m     \u001b[0msquares\u001b[0m\u001b[1;33m.\u001b[0m\u001b[0mappend\u001b[0m\u001b[1;33m(\u001b[0m\u001b[0mg\u001b[0m\u001b[1;33m)\u001b[0m\u001b[1;33m\u001b[0m\u001b[0m\n\u001b[0;32m      9\u001b[0m     \u001b[1;32mif\u001b[0m \u001b[0mlen\u001b[0m\u001b[1;33m(\u001b[0m\u001b[0mg\u001b[0m\u001b[1;33m)\u001b[0m \u001b[1;33m!=\u001b[0m \u001b[1;36m1\u001b[0m\u001b[1;33m:\u001b[0m\u001b[1;33m\u001b[0m\u001b[0m\n",
      "\u001b[1;32m/home/kirk/ds/local/lib/python2.7/site-packages/geopandas/base.pyc\u001b[0m in \u001b[0;36mcontains\u001b[1;34m(self, other)\u001b[0m\n\u001b[0;32m    198\u001b[0m     \u001b[1;32mdef\u001b[0m \u001b[0mcontains\u001b[0m\u001b[1;33m(\u001b[0m\u001b[0mself\u001b[0m\u001b[1;33m,\u001b[0m \u001b[0mother\u001b[0m\u001b[1;33m)\u001b[0m\u001b[1;33m:\u001b[0m\u001b[1;33m\u001b[0m\u001b[0m\n\u001b[0;32m    199\u001b[0m         \u001b[1;34m\"\"\"Return True for all geometries that contain *other*, else False\"\"\"\u001b[0m\u001b[1;33m\u001b[0m\u001b[0m\n\u001b[1;32m--> 200\u001b[1;33m         \u001b[1;32mreturn\u001b[0m \u001b[0m_series_op\u001b[0m\u001b[1;33m(\u001b[0m\u001b[0mself\u001b[0m\u001b[1;33m,\u001b[0m \u001b[0mother\u001b[0m\u001b[1;33m,\u001b[0m \u001b[1;34m'contains'\u001b[0m\u001b[1;33m)\u001b[0m\u001b[1;33m\u001b[0m\u001b[0m\n\u001b[0m\u001b[0;32m    201\u001b[0m \u001b[1;33m\u001b[0m\u001b[0m\n\u001b[0;32m    202\u001b[0m     \u001b[1;32mdef\u001b[0m \u001b[0mgeom_equals\u001b[0m\u001b[1;33m(\u001b[0m\u001b[0mself\u001b[0m\u001b[1;33m,\u001b[0m \u001b[0mother\u001b[0m\u001b[1;33m)\u001b[0m\u001b[1;33m:\u001b[0m\u001b[1;33m\u001b[0m\u001b[0m\n",
      "\u001b[1;32m/home/kirk/ds/local/lib/python2.7/site-packages/geopandas/base.pyc\u001b[0m in \u001b[0;36m_series_op\u001b[1;34m(this, other, op, **kwargs)\u001b[0m\n\u001b[0;32m     53\u001b[0m     \u001b[1;32melse\u001b[0m\u001b[1;33m:\u001b[0m\u001b[1;33m\u001b[0m\u001b[0m\n\u001b[0;32m     54\u001b[0m         return Series([getattr(s, op)(other, **kwargs) if s else null_val\n\u001b[1;32m---> 55\u001b[1;33m                       for s in this.geometry], index=this.index)\n\u001b[0m\u001b[0;32m     56\u001b[0m \u001b[1;33m\u001b[0m\u001b[0m\n\u001b[0;32m     57\u001b[0m \u001b[1;32mdef\u001b[0m \u001b[0m_geo_unary_op\u001b[0m\u001b[1;33m(\u001b[0m\u001b[0mthis\u001b[0m\u001b[1;33m,\u001b[0m \u001b[0mop\u001b[0m\u001b[1;33m)\u001b[0m\u001b[1;33m:\u001b[0m\u001b[1;33m\u001b[0m\u001b[0m\n",
      "\u001b[1;32m/home/kirk/ds/local/lib/python2.7/site-packages/shapely/geometry/base.pyc\u001b[0m in \u001b[0;36mcontains\u001b[1;34m(self, other)\u001b[0m\n\u001b[0;32m    634\u001b[0m     \u001b[1;32mdef\u001b[0m \u001b[0mcontains\u001b[0m\u001b[1;33m(\u001b[0m\u001b[0mself\u001b[0m\u001b[1;33m,\u001b[0m \u001b[0mother\u001b[0m\u001b[1;33m)\u001b[0m\u001b[1;33m:\u001b[0m\u001b[1;33m\u001b[0m\u001b[0m\n\u001b[0;32m    635\u001b[0m         \u001b[1;34m\"\"\"Returns True if the geometry contains the other, else False\"\"\"\u001b[0m\u001b[1;33m\u001b[0m\u001b[0m\n\u001b[1;32m--> 636\u001b[1;33m         \u001b[1;32mreturn\u001b[0m \u001b[0mbool\u001b[0m\u001b[1;33m(\u001b[0m\u001b[0mself\u001b[0m\u001b[1;33m.\u001b[0m\u001b[0mimpl\u001b[0m\u001b[1;33m[\u001b[0m\u001b[1;34m'contains'\u001b[0m\u001b[1;33m]\u001b[0m\u001b[1;33m(\u001b[0m\u001b[0mself\u001b[0m\u001b[1;33m,\u001b[0m \u001b[0mother\u001b[0m\u001b[1;33m)\u001b[0m\u001b[1;33m)\u001b[0m\u001b[1;33m\u001b[0m\u001b[0m\n\u001b[0m\u001b[0;32m    637\u001b[0m \u001b[1;33m\u001b[0m\u001b[0m\n\u001b[0;32m    638\u001b[0m     \u001b[1;32mdef\u001b[0m \u001b[0mcrosses\u001b[0m\u001b[1;33m(\u001b[0m\u001b[0mself\u001b[0m\u001b[1;33m,\u001b[0m \u001b[0mother\u001b[0m\u001b[1;33m)\u001b[0m\u001b[1;33m:\u001b[0m\u001b[1;33m\u001b[0m\u001b[0m\n",
      "\u001b[1;32m/home/kirk/ds/local/lib/python2.7/site-packages/shapely/predicates.pyc\u001b[0m in \u001b[0;36m__call__\u001b[1;34m(self, this, other, *args)\u001b[0m\n\u001b[0;32m     11\u001b[0m     \u001b[1;32mdef\u001b[0m \u001b[0m__call__\u001b[0m\u001b[1;33m(\u001b[0m\u001b[0mself\u001b[0m\u001b[1;33m,\u001b[0m \u001b[0mthis\u001b[0m\u001b[1;33m,\u001b[0m \u001b[0mother\u001b[0m\u001b[1;33m,\u001b[0m \u001b[1;33m*\u001b[0m\u001b[0margs\u001b[0m\u001b[1;33m)\u001b[0m\u001b[1;33m:\u001b[0m\u001b[1;33m\u001b[0m\u001b[0m\n\u001b[0;32m     12\u001b[0m         \u001b[0mself\u001b[0m\u001b[1;33m.\u001b[0m\u001b[0m_validate\u001b[0m\u001b[1;33m(\u001b[0m\u001b[0mthis\u001b[0m\u001b[1;33m)\u001b[0m\u001b[1;33m\u001b[0m\u001b[0m\n\u001b[1;32m---> 13\u001b[1;33m         \u001b[0mself\u001b[0m\u001b[1;33m.\u001b[0m\u001b[0m_validate\u001b[0m\u001b[1;33m(\u001b[0m\u001b[0mother\u001b[0m\u001b[1;33m,\u001b[0m \u001b[0mstop_prepared\u001b[0m\u001b[1;33m=\u001b[0m\u001b[0mTrue\u001b[0m\u001b[1;33m)\u001b[0m\u001b[1;33m\u001b[0m\u001b[0m\n\u001b[0m\u001b[0;32m     14\u001b[0m         \u001b[1;32mtry\u001b[0m\u001b[1;33m:\u001b[0m\u001b[1;33m\u001b[0m\u001b[0m\n\u001b[0;32m     15\u001b[0m             \u001b[1;32mreturn\u001b[0m \u001b[0mself\u001b[0m\u001b[1;33m.\u001b[0m\u001b[0mfn\u001b[0m\u001b[1;33m(\u001b[0m\u001b[0mthis\u001b[0m\u001b[1;33m.\u001b[0m\u001b[0m_geom\u001b[0m\u001b[1;33m,\u001b[0m \u001b[0mother\u001b[0m\u001b[1;33m.\u001b[0m\u001b[0m_geom\u001b[0m\u001b[1;33m,\u001b[0m \u001b[1;33m*\u001b[0m\u001b[0margs\u001b[0m\u001b[1;33m)\u001b[0m\u001b[1;33m\u001b[0m\u001b[0m\n",
      "\u001b[1;32m/home/kirk/ds/local/lib/python2.7/site-packages/shapely/topology.pyc\u001b[0m in \u001b[0;36m_validate\u001b[1;34m(self, ob, stop_prepared)\u001b[0m\n\u001b[0;32m     15\u001b[0m \u001b[1;33m\u001b[0m\u001b[0m\n\u001b[0;32m     16\u001b[0m     \u001b[1;32mdef\u001b[0m \u001b[0m_validate\u001b[0m\u001b[1;33m(\u001b[0m\u001b[0mself\u001b[0m\u001b[1;33m,\u001b[0m \u001b[0mob\u001b[0m\u001b[1;33m,\u001b[0m \u001b[0mstop_prepared\u001b[0m\u001b[1;33m=\u001b[0m\u001b[0mFalse\u001b[0m\u001b[1;33m)\u001b[0m\u001b[1;33m:\u001b[0m\u001b[1;33m\u001b[0m\u001b[0m\n\u001b[1;32m---> 17\u001b[1;33m         \u001b[1;32mif\u001b[0m \u001b[0mob\u001b[0m \u001b[1;32mis\u001b[0m \u001b[0mNone\u001b[0m \u001b[1;32mor\u001b[0m \u001b[0mob\u001b[0m\u001b[1;33m.\u001b[0m\u001b[0m_geom\u001b[0m \u001b[1;32mis\u001b[0m \u001b[0mNone\u001b[0m\u001b[1;33m:\u001b[0m\u001b[1;33m\u001b[0m\u001b[0m\n\u001b[0m\u001b[0;32m     18\u001b[0m             \u001b[1;32mraise\u001b[0m \u001b[0mValueError\u001b[0m\u001b[1;33m(\u001b[0m\u001b[1;34m\"Null geometry supports no operations\"\u001b[0m\u001b[1;33m)\u001b[0m\u001b[1;33m\u001b[0m\u001b[0m\n\u001b[0;32m     19\u001b[0m         \u001b[1;32mif\u001b[0m \u001b[0mstop_prepared\u001b[0m \u001b[1;32mand\u001b[0m \u001b[1;32mnot\u001b[0m \u001b[0mhasattr\u001b[0m\u001b[1;33m(\u001b[0m\u001b[0mob\u001b[0m\u001b[1;33m,\u001b[0m \u001b[1;34m'type'\u001b[0m\u001b[1;33m)\u001b[0m\u001b[1;33m:\u001b[0m\u001b[1;33m\u001b[0m\u001b[0m\n",
      "\u001b[1;32m/home/kirk/ds/local/lib/python2.7/site-packages/shapely/geometry/base.pyc\u001b[0m in \u001b[0;36m_geom\u001b[1;34m(self)\u001b[0m\n\u001b[0;32m    239\u001b[0m             \u001b[0mself\u001b[0m\u001b[1;33m.\u001b[0m\u001b[0m_ndim\u001b[0m \u001b[1;33m=\u001b[0m \u001b[1;36m2\u001b[0m\u001b[1;33m\u001b[0m\u001b[0m\n\u001b[0;32m    240\u001b[0m \u001b[1;33m\u001b[0m\u001b[0m\n\u001b[1;32m--> 241\u001b[1;33m     \u001b[1;33m@\u001b[0m\u001b[0mproperty\u001b[0m\u001b[1;33m\u001b[0m\u001b[0m\n\u001b[0m\u001b[0;32m    242\u001b[0m     \u001b[1;32mdef\u001b[0m \u001b[0m_geom\u001b[0m\u001b[1;33m(\u001b[0m\u001b[0mself\u001b[0m\u001b[1;33m)\u001b[0m\u001b[1;33m:\u001b[0m\u001b[1;33m\u001b[0m\u001b[0m\n\u001b[0;32m    243\u001b[0m         \u001b[1;32mreturn\u001b[0m \u001b[0mself\u001b[0m\u001b[1;33m.\u001b[0m\u001b[0m__geom__\u001b[0m\u001b[1;33m\u001b[0m\u001b[0m\n",
      "\u001b[1;31mKeyboardInterrupt\u001b[0m: "
     ]
    }
   ],
   "source": [
    "squares = []\n",
    "for i in range(len(bigDF)):\n",
    "    if i % 10000 == 0:\n",
    "        print 'on row %d, %d percent complete' % (i, float(i)/len(bigDF))\n",
    "    coord = bigDF.iloc[i][['x_coordinate', 'y_coordinate']]\n",
    "    pt = Point(coord['x_coordinate'], coord['y_coordinate'])\n",
    "    g = geoDF[geoDF.geometry.contains(pt) == True]['geometry']\n",
    "    squares.append({'df_index':i, 'square_index': g.index.values[0]})"
   ]
  },
  {
   "cell_type": "code",
   "execution_count": null,
   "metadata": {
    "collapsed": true
   },
   "outputs": [],
   "source": [
    "#data = []\n",
    "#for i in range(len(g1)):\n",
    "#    print i\n",
    "#    for y in range(len(g3)):\n",
    "#        if y % 1000 == 0:\n",
    "#            print y\n",
    "#        if g1.iloc[i]['geometry'].intersects(g2.iloc[y]['geometry']):\n",
    "#            data.append({'geometry': g1.iloc[i]['geometry'].intersection(g2.iloc[y]['geometry']), 'district':g1.iloc[i]['DISTRICT'], \n",
    "#                       'precinct': g1.iloc[i]['PRECINCT']})"
   ]
  },
  {
   "cell_type": "code",
   "execution_count": 117,
   "metadata": {
    "collapsed": false
   },
   "outputs": [],
   "source": [
    "coord = bigDF.iloc[-1][['x_coordinate', 'y_coordinate']]\n",
    "pt = Point(coord['x_coordinate'], coord['y_coordinate'])\n",
    "g = geoDF[geoDF.geometry.contains(pt) == True]['geometry']"
   ]
  },
  {
   "cell_type": "code",
   "execution_count": 122,
   "metadata": {
    "collapsed": false
   },
   "outputs": [
    {
     "data": {
      "text/html": [
       "<div style=\"max-height:1000px;max-width:1500px;overflow:auto;\">\n",
       "<table border=\"1\" class=\"dataframe\">\n",
       "  <thead>\n",
       "    <tr style=\"text-align: right;\">\n",
       "      <th></th>\n",
       "      <th>CATEGORY</th>\n",
       "      <th>CALL GROUPS</th>\n",
       "      <th>final_case_type</th>\n",
       "      <th>CASE DESC</th>\n",
       "      <th>occ_date</th>\n",
       "      <th>x_coordinate</th>\n",
       "      <th>y_coordinate</th>\n",
       "      <th>census_tract</th>\n",
       "    </tr>\n",
       "  </thead>\n",
       "  <tbody>\n",
       "    <tr>\n",
       "      <th>120462</th>\n",
       "      <td> BURGLARY</td>\n",
       "      <td> PROPERTY CRIME</td>\n",
       "      <td> BURGP </td>\n",
       "      <td> BURGLARY - PRIORITY *H                        ...</td>\n",
       "      <td>2016-07-29</td>\n",
       "      <td> 7644019</td>\n",
       "      <td> 686939</td>\n",
       "      <td> 5100</td>\n",
       "    </tr>\n",
       "    <tr>\n",
       "      <th>120463</th>\n",
       "      <td> BURGLARY</td>\n",
       "      <td> PROPERTY CRIME</td>\n",
       "      <td> BURGP </td>\n",
       "      <td> BURGLARY - PRIORITY *H                        ...</td>\n",
       "      <td>2016-07-30</td>\n",
       "      <td> 7669140</td>\n",
       "      <td> 678601</td>\n",
       "      <td> 1601</td>\n",
       "    </tr>\n",
       "    <tr>\n",
       "      <th>120464</th>\n",
       "      <td> BURGLARY</td>\n",
       "      <td> PROPERTY CRIME</td>\n",
       "      <td> BURGP </td>\n",
       "      <td> BURGLARY - PRIORITY *H                        ...</td>\n",
       "      <td>2016-07-30</td>\n",
       "      <td> 7671422</td>\n",
       "      <td> 695799</td>\n",
       "      <td> 7700</td>\n",
       "    </tr>\n",
       "    <tr>\n",
       "      <th>120465</th>\n",
       "      <td> BURGLARY</td>\n",
       "      <td> PROPERTY CRIME</td>\n",
       "      <td> BURGP </td>\n",
       "      <td> BURGLARY - PRIORITY *H                        ...</td>\n",
       "      <td>2016-07-31</td>\n",
       "      <td> 7685840</td>\n",
       "      <td> 684298</td>\n",
       "      <td> 9302</td>\n",
       "    </tr>\n",
       "  </tbody>\n",
       "</table>\n",
       "</div>"
      ],
      "text/plain": [
       "        CATEGORY     CALL GROUPS final_case_type  \\\n",
       "120462  BURGLARY  PROPERTY CRIME          BURGP    \n",
       "120463  BURGLARY  PROPERTY CRIME          BURGP    \n",
       "120464  BURGLARY  PROPERTY CRIME          BURGP    \n",
       "120465  BURGLARY  PROPERTY CRIME          BURGP    \n",
       "\n",
       "                                                CASE DESC   occ_date  \\\n",
       "120462  BURGLARY - PRIORITY *H                        ... 2016-07-29   \n",
       "120463  BURGLARY - PRIORITY *H                        ... 2016-07-30   \n",
       "120464  BURGLARY - PRIORITY *H                        ... 2016-07-30   \n",
       "120465  BURGLARY - PRIORITY *H                        ... 2016-07-31   \n",
       "\n",
       "        x_coordinate  y_coordinate  census_tract  \n",
       "120462       7644019        686939          5100  \n",
       "120463       7669140        678601          1601  \n",
       "120464       7671422        695799          7700  \n",
       "120465       7685840        684298          9302  "
      ]
     },
     "execution_count": 122,
     "metadata": {},
     "output_type": "execute_result"
    }
   ],
   "source": [
    "bigDF[926740:926744]"
   ]
  },
  {
   "cell_type": "code",
   "execution_count": 128,
   "metadata": {
    "collapsed": false
   },
   "outputs": [],
   "source": [
    "sq = filter(lambda x: len(x) != 0, squares)"
   ]
  },
  {
   "cell_type": "code",
   "execution_count": 134,
   "metadata": {
    "collapsed": false
   },
   "outputs": [
    {
     "data": {
      "text/plain": [
       "24479"
      ]
     },
     "execution_count": 134,
     "metadata": {},
     "output_type": "execute_result"
    }
   ],
   "source": [
    "sq[0].index.values[0]"
   ]
  },
  {
   "cell_type": "code",
   "execution_count": 141,
   "metadata": {
    "collapsed": false
   },
   "outputs": [
    {
     "data": {
      "text/plain": [
       "x_coordinate    7646563\n",
       "y_coordinate     684232\n",
       "Name: 19, dtype: object"
      ]
     },
     "execution_count": 141,
     "metadata": {},
     "output_type": "execute_result"
    }
   ],
   "source": [
    "ldf = bigDF[10:20]\n",
    "ldf.iloc[9][['x_coordinate', 'y_coordinate']]"
   ]
  },
  {
   "cell_type": "code",
   "execution_count": 150,
   "metadata": {
    "collapsed": false
   },
   "outputs": [],
   "source": [
    "sq = pickle.load(open('../data/cleanData/testmatched.pkl', 'rb'))"
   ]
  },
  {
   "cell_type": "code",
   "execution_count": 155,
   "metadata": {
    "collapsed": true
   },
   "outputs": [],
   "source": [
    "GEO_DF_PATH = \"../data/shapefiles/intersections.shp\"\n",
    "\n",
    "def matchPoints(bigDF):\n",
    "    geoDF =  gpd.GeoDataFrame.from_file(GEO_DF_PATH)\n",
    "    squares = []\n",
    "    for i in range(len(bigDF)):\n",
    "        if i % 10000 == 0:\n",
    "            print 'on row %d, %f percent complete' % (i, float(i)/float(len(bigDF)))\n",
    "        coord = bigDF.iloc[i][['x_coordinate', 'y_coordinate']]\n",
    "        pt = Point(coord['x_coordinate'], coord['y_coordinate'])\n",
    "        g = geoDF[geoDF.geometry.contains(pt) == True]['geometry']\n",
    "        if len(g) > 0:\n",
    "            squares.append({'df_index':i, 'square_index': g.index.values[0]})\n",
    "        else:\n",
    "            squares.append({'df_index':i, 'square_index': None})\n",
    "        print 'COMPLETED %d rows, %f percent complete' % (i+1, float(i+1)/float(len(bigDF)))\n",
    "    return squares"
   ]
  },
  {
   "cell_type": "code",
   "execution_count": 153,
   "metadata": {
    "collapsed": false
   },
   "outputs": [
    {
     "name": "stdout",
     "output_type": "stream",
     "text": [
      "reading pdf\n",
      "splitting df\n",
      "starting matching process\n"
     ]
    },
    {
     "ename": "NameError",
     "evalue": "global name 'matchPoints' is not defined",
     "output_type": "error",
     "traceback": [
      "\u001b[1;31m---------------------------------------------------------------------------\u001b[0m",
      "\u001b[1;31mNameError\u001b[0m                                 Traceback (most recent call last)",
      "\u001b[1;32m<ipython-input-153-cb3f38a73cf7>\u001b[0m in \u001b[0;36m<module>\u001b[1;34m()\u001b[0m\n\u001b[0;32m      7\u001b[0m \u001b[0mdf_list\u001b[0m \u001b[1;33m=\u001b[0m \u001b[0mmap\u001b[0m\u001b[1;33m(\u001b[0m\u001b[1;32mlambda\u001b[0m \u001b[0mx\u001b[0m\u001b[1;33m:\u001b[0m \u001b[0mbigDF\u001b[0m\u001b[1;33m[\u001b[0m\u001b[0mx\u001b[0m\u001b[1;33m:\u001b[0m\u001b[0mx\u001b[0m\u001b[1;33m+\u001b[0m\u001b[0mchunk_size\u001b[0m\u001b[1;33m]\u001b[0m\u001b[1;33m,\u001b[0m \u001b[0msplits\u001b[0m\u001b[1;33m)\u001b[0m\u001b[1;33m\u001b[0m\u001b[0m\n\u001b[0;32m      8\u001b[0m \u001b[1;32mprint\u001b[0m \u001b[1;34m'starting matching process'\u001b[0m\u001b[1;33m\u001b[0m\u001b[0m\n\u001b[1;32m----> 9\u001b[1;33m \u001b[0mres\u001b[0m \u001b[1;33m=\u001b[0m \u001b[0mmap\u001b[0m\u001b[1;33m(\u001b[0m\u001b[1;32mlambda\u001b[0m \u001b[0mx\u001b[0m\u001b[1;33m:\u001b[0m \u001b[0mmatchPoints\u001b[0m\u001b[1;33m(\u001b[0m\u001b[0mx\u001b[0m\u001b[1;33m)\u001b[0m\u001b[1;33m,\u001b[0m \u001b[0mdf_list\u001b[0m\u001b[1;33m[\u001b[0m\u001b[1;33m:\u001b[0m\u001b[1;36m2\u001b[0m\u001b[1;33m]\u001b[0m\u001b[1;33m)\u001b[0m\u001b[1;33m\u001b[0m\u001b[0m\n\u001b[0m\u001b[0;32m     10\u001b[0m \u001b[1;32mprint\u001b[0m \u001b[1;34m'completed match'\u001b[0m\u001b[1;33m\u001b[0m\u001b[0m\n\u001b[0;32m     11\u001b[0m \u001b[0mmatched\u001b[0m \u001b[1;33m=\u001b[0m \u001b[0mreduce\u001b[0m\u001b[1;33m(\u001b[0m\u001b[0moperator\u001b[0m\u001b[1;33m.\u001b[0m\u001b[0madd\u001b[0m\u001b[1;33m,\u001b[0m \u001b[0mres\u001b[0m\u001b[1;33m)\u001b[0m\u001b[1;33m\u001b[0m\u001b[0m\n",
      "\u001b[1;32m<ipython-input-153-cb3f38a73cf7>\u001b[0m in \u001b[0;36m<lambda>\u001b[1;34m(x)\u001b[0m\n\u001b[0;32m      7\u001b[0m \u001b[0mdf_list\u001b[0m \u001b[1;33m=\u001b[0m \u001b[0mmap\u001b[0m\u001b[1;33m(\u001b[0m\u001b[1;32mlambda\u001b[0m \u001b[0mx\u001b[0m\u001b[1;33m:\u001b[0m \u001b[0mbigDF\u001b[0m\u001b[1;33m[\u001b[0m\u001b[0mx\u001b[0m\u001b[1;33m:\u001b[0m\u001b[0mx\u001b[0m\u001b[1;33m+\u001b[0m\u001b[0mchunk_size\u001b[0m\u001b[1;33m]\u001b[0m\u001b[1;33m,\u001b[0m \u001b[0msplits\u001b[0m\u001b[1;33m)\u001b[0m\u001b[1;33m\u001b[0m\u001b[0m\n\u001b[0;32m      8\u001b[0m \u001b[1;32mprint\u001b[0m \u001b[1;34m'starting matching process'\u001b[0m\u001b[1;33m\u001b[0m\u001b[0m\n\u001b[1;32m----> 9\u001b[1;33m \u001b[0mres\u001b[0m \u001b[1;33m=\u001b[0m \u001b[0mmap\u001b[0m\u001b[1;33m(\u001b[0m\u001b[1;32mlambda\u001b[0m \u001b[0mx\u001b[0m\u001b[1;33m:\u001b[0m \u001b[0mmatchPoints\u001b[0m\u001b[1;33m(\u001b[0m\u001b[0mx\u001b[0m\u001b[1;33m)\u001b[0m\u001b[1;33m,\u001b[0m \u001b[0mdf_list\u001b[0m\u001b[1;33m[\u001b[0m\u001b[1;33m:\u001b[0m\u001b[1;36m2\u001b[0m\u001b[1;33m]\u001b[0m\u001b[1;33m)\u001b[0m\u001b[1;33m\u001b[0m\u001b[0m\n\u001b[0m\u001b[0;32m     10\u001b[0m \u001b[1;32mprint\u001b[0m \u001b[1;34m'completed match'\u001b[0m\u001b[1;33m\u001b[0m\u001b[0m\n\u001b[0;32m     11\u001b[0m \u001b[0mmatched\u001b[0m \u001b[1;33m=\u001b[0m \u001b[0mreduce\u001b[0m\u001b[1;33m(\u001b[0m\u001b[0moperator\u001b[0m\u001b[1;33m.\u001b[0m\u001b[0madd\u001b[0m\u001b[1;33m,\u001b[0m \u001b[0mres\u001b[0m\u001b[1;33m)\u001b[0m\u001b[1;33m\u001b[0m\u001b[0m\n",
      "\u001b[1;31mNameError\u001b[0m: global name 'matchPoints' is not defined"
     ]
    }
   ],
   "source": [
    "print 'reading pdf'\n",
    "#pdf = pd.read_csv('../data/cleanData/all_crim_data.csv')\n",
    "chunk_size = 2\n",
    "splits = range(0, len(bigDF), chunk_size)\n",
    "#chunks = map(lambda x: x + chunk_size, splits)\n",
    "print 'splitting df'\n",
    "df_list = map(lambda x: bigDF[x:x+chunk_size], splits)\n",
    "print 'starting matching process'\n",
    "res = map(lambda x: matchPoints(x), df_list[:2])\n",
    "print 'completed match'\n",
    "matched = reduce(operator.add, res)\n",
    "pklPath = '../data/cleanData/testmatched.pkl'\n",
    "print 'saving %d matches in %s' % (len(matched), pklPath)\n",
    "#pickle.dump(matched, open(pklPath, 'wb'))"
   ]
  },
  {
   "cell_type": "code",
   "execution_count": 156,
   "metadata": {
    "collapsed": false
   },
   "outputs": [
    {
     "name": "stdout",
     "output_type": "stream",
     "text": [
      "on row 0, 0.000000 percent complete\n",
      "COMPLETED 1 rows, 0.500000 percent complete\n",
      "COMPLETED 2 rows, 1.000000 percent complete\n",
      "on row 0, 0.000000 percent complete\n",
      "COMPLETED 1 rows, 0.500000 percent complete\n",
      "COMPLETED 2 rows, 1.000000 percent complete\n",
      "completed match\n"
     ]
    },
    {
     "ename": "NameError",
     "evalue": "name 'operator' is not defined",
     "output_type": "error",
     "traceback": [
      "\u001b[1;31m---------------------------------------------------------------------------\u001b[0m",
      "\u001b[1;31mNameError\u001b[0m                                 Traceback (most recent call last)",
      "\u001b[1;32m<ipython-input-156-01f10c1e9ecc>\u001b[0m in \u001b[0;36m<module>\u001b[1;34m()\u001b[0m\n\u001b[0;32m      1\u001b[0m \u001b[0mres\u001b[0m \u001b[1;33m=\u001b[0m \u001b[0mmap\u001b[0m\u001b[1;33m(\u001b[0m\u001b[1;32mlambda\u001b[0m \u001b[0mx\u001b[0m\u001b[1;33m:\u001b[0m \u001b[0mmatchPoints\u001b[0m\u001b[1;33m(\u001b[0m\u001b[0mx\u001b[0m\u001b[1;33m)\u001b[0m\u001b[1;33m,\u001b[0m \u001b[0mdf_list\u001b[0m\u001b[1;33m[\u001b[0m\u001b[1;33m:\u001b[0m\u001b[1;36m2\u001b[0m\u001b[1;33m]\u001b[0m\u001b[1;33m)\u001b[0m\u001b[1;33m\u001b[0m\u001b[0m\n\u001b[0;32m      2\u001b[0m \u001b[1;32mprint\u001b[0m \u001b[1;34m'completed match'\u001b[0m\u001b[1;33m\u001b[0m\u001b[0m\n\u001b[1;32m----> 3\u001b[1;33m \u001b[0mmatched\u001b[0m \u001b[1;33m=\u001b[0m \u001b[0mreduce\u001b[0m\u001b[1;33m(\u001b[0m\u001b[0moperator\u001b[0m\u001b[1;33m.\u001b[0m\u001b[0madd\u001b[0m\u001b[1;33m,\u001b[0m \u001b[0mres\u001b[0m\u001b[1;33m)\u001b[0m\u001b[1;33m\u001b[0m\u001b[0m\n\u001b[0m",
      "\u001b[1;31mNameError\u001b[0m: name 'operator' is not defined"
     ]
    }
   ],
   "source": [
    "res = map(lambda x: matchPoints(x), df_list[:2])\n",
    "print 'completed match'\n",
    "matched = reduce(operator.add, res)"
   ]
  },
  {
   "cell_type": "code",
   "execution_count": 159,
   "metadata": {
    "collapsed": false
   },
   "outputs": [],
   "source": [
    "matched = reduce(operator.add, res)"
   ]
  },
  {
   "cell_type": "code",
   "execution_count": 164,
   "metadata": {
    "collapsed": false
   },
   "outputs": [],
   "source": [
    "json.dump(matched, open('testmatched.json', 'wb'))"
   ]
  },
  {
   "cell_type": "code",
   "execution_count": 166,
   "metadata": {
    "collapsed": false
   },
   "outputs": [
    {
     "data": {
      "text/plain": [
       "[{u'df_index': 0, u'square_index': 24479},\n",
       " {u'df_index': 1, u'square_index': 5453},\n",
       " {u'df_index': 0, u'square_index': 137846},\n",
       " {u'df_index': 1, u'square_index': 115292}]"
      ]
     },
     "execution_count": 166,
     "metadata": {},
     "output_type": "execute_result"
    }
   ],
   "source": [
    "json.load(open('testmatched.json'))"
   ]
  },
  {
   "cell_type": "code",
   "execution_count": 167,
   "metadata": {
    "collapsed": false
   },
   "outputs": [
    {
     "data": {
      "text/plain": [
       "71288"
      ]
     },
     "execution_count": 167,
     "metadata": {},
     "output_type": "execute_result"
    }
   ],
   "source": [
    "len(bigDF)/13"
   ]
  },
  {
   "cell_type": "code",
   "execution_count": null,
   "metadata": {
    "collapsed": true
   },
   "outputs": [],
   "source": []
  }
 ],
 "metadata": {
  "kernelspec": {
   "display_name": "Python 2",
   "language": "python",
   "name": "python2"
  },
  "language_info": {
   "codemirror_mode": {
    "name": "ipython",
    "version": 2
   },
   "file_extension": ".py",
   "mimetype": "text/x-python",
   "name": "python",
   "nbconvert_exporter": "python",
   "pygments_lexer": "ipython2",
   "version": "2.7.6"
  }
 },
 "nbformat": 4,
 "nbformat_minor": 0
}
